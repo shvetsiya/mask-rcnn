{
 "cells": [
  {
   "cell_type": "code",
   "execution_count": 2,
   "metadata": {},
   "outputs": [],
   "source": [
    "import numpy as np\n",
    "import pandas as pd\n",
    "import cv2\n",
    "import os\n",
    "import skimage.color as sk_color\n",
    "import glob\n",
    "import matplotlib.pylab as plt"
   ]
  },
  {
   "cell_type": "code",
   "execution_count": 6,
   "metadata": {},
   "outputs": [
    {
     "name": "stdout",
     "output_type": "stream",
     "text": [
      "/home/alex/kaggle/ds_bowl_2018\n"
     ]
    }
   ],
   "source": [
    "HOME_DIR = os.environ['HOME']\n",
    "ROOT_DIR = HOME_DIR + '/kaggle/ds_bowl_2018'\n",
    "\n",
    "DATA_DIR    = ROOT_DIR + '/input/'  \n",
    "RESULTS_DIR = ROOT_DIR + '/results/'"
   ]
  },
  {
   "cell_type": "code",
   "execution_count": 4,
   "metadata": {},
   "outputs": [],
   "source": [
    "def read_list_from_file(list_file, comment='#', func=None):\n",
    "    with open(list_file) as f:\n",
    "        lines  = f.readlines()\n",
    "\n",
    "    strings=[]\n",
    "    for line in lines:\n",
    "        s = line.split(comment, 1)[0].strip()\n",
    "        if s != '':\n",
    "            strings.append(s)\n",
    "    if func is not None:\n",
    "        strings=[func(s) for s in strings]\n",
    "\n",
    "    return strings\n",
    "\n",
    "def thresh_to_inner_contour(mask):\n",
    "    mask_pad = np.lib.pad(mask, ((1, 1), (1, 1)), 'reflect')\n",
    "    contour = mask_pad[1:-1, 1:-1] & \\\n",
    "            ((mask_pad[1:-1, 1:-1] != mask_pad[:-2, 1:-1]) | (mask_pad[1:-1, 1:-1] != mask_pad[2:, 1:-1]) | \\\n",
    "             (mask_pad[1:-1, 1:-1] != mask_pad[1:-1, :-2]) | (mask_pad[1:-1, 1:-1] != mask_pad[1:-1, 2:]))\n",
    "    return contour\n",
    "\n",
    "def multi_mask_to_overlay(multi_mask):\n",
    "    overlay = sk_color.label2rgb(multi_mask, bg_label=0, bg_color=(0, 0, 0))*255\n",
    "    overlay = overlay.astype(np.uint8)\n",
    "    return overlay\n",
    "\n",
    "def image_show(name, image, resize=1):\n",
    "    H, W = image.shape[0:2]\n",
    "    #cv2.namedWindow(name, cv2.WINDOW_NORMAL)\n",
    "    plt.imshow(image)\n",
    "    #plt.imshow(image.astype('float'))\n",
    "    #cv2.resizeWindow(name, round(resize*W), round(resize*H))"
   ]
  },
  {
   "cell_type": "code",
   "execution_count": 5,
   "metadata": {},
   "outputs": [],
   "source": [
    "countour_on_image = None\n",
    "def run_make_annotation():\n",
    "    global countour_on_image\n",
    "    split = 'train1_ids_all_670'\n",
    "    ids = read_list_from_file(DATA_DIR + '/split/' + split, comment='#')\n",
    "\n",
    "    for i in range(len(ids[:1])):\n",
    "        image_files = glob.glob(DATA_DIR + ids[i] + '/images/*.png')\n",
    "        assert(len(image_files)==1)\n",
    "        image_file=image_files[0]\n",
    "\n",
    "        #----clear old -----------------------------\n",
    "        if 1:\n",
    "            for f in ['one_mask.png','one_countour_mask.png','one_countour_image.png','one_countour.png',\n",
    "                      'overlap.png', 'one_center.png','/masks.npy', '/labels.npy',\n",
    "                      '/countour_on_image.png', '/cut_mask.png', '/label.npy', '/mask.png','/overlay.png',\n",
    "                      '/multi.npy','/multi.png',\n",
    "                      '/instance.npy','/instance.png',\n",
    "                      '/multi_instance.npy','/multi_instance.png',\n",
    "                      ]:\n",
    "                file = DATA_DIR + ids[i] + '/' + f\n",
    "                if os.path.exists(file):\n",
    "                    os.remove(file)\n",
    "        #----clear old -----------------------------\n",
    "        \n",
    "        #image\n",
    "        image = cv2.imread(image_file, cv2.IMREAD_COLOR)\n",
    "\n",
    "        H, W, C = image.shape\n",
    "        multi_mask = np.zeros((H, W), np.int32)\n",
    "        mask       = np.zeros((H, W), np.uint8)\n",
    "        countour   = np.zeros((H, W), np.uint8)        \n",
    "\n",
    "        mask_files = glob.glob(DATA_DIR + ids[i] + '/masks/*.png')\n",
    "        mask_files.sort()\n",
    "        for cc in range(len(mask_files)):\n",
    "            mask_inst = cv2.imread(mask_files[cc], cv2.IMREAD_GRAYSCALE)\n",
    "            mask_bin = mask_inst > 128\n",
    "            index  = np.where(mask_bin)\n",
    "\n",
    "            multi_mask[index]= cc+1\n",
    "            mask  = np.logical_or(mask, mask_bin)\n",
    "            countour = np.logical_or(countour, thresh_to_inner_contour(mask_bin))\n",
    "            \n",
    "        ## save and show -------------------------------------------\n",
    "        countour_on_image = image.copy()\n",
    "        countour_on_image = countour[:, :, np.newaxis]*np.array([0, 255, 0]) + (1-countour[:, :, np.newaxis])*countour_on_image\n",
    "\n",
    "        countour_overlay  = countour*255\n",
    "        mask_overlay  = mask*255\n",
    "        multi_mask_overlay = multi_mask_to_overlay(multi_mask)\n",
    "\n",
    "        \n",
    "#         image_show('image',image)\n",
    "#         image_show('mask', mask_overlay)\n",
    "#         image_show('multi_mask',multi_mask_overlay)\n",
    "#         image_show('countour',countour_overlay.astype('float'))\n",
    "#         image_show('countour_on_image',countour_on_image.astype('float'))\n",
    "        \n",
    "        np.save(    DATA_DIR + ids[i] + '/multi_mask.npy', multi_mask)\n",
    "        cv2.imwrite(DATA_DIR + ids[i] + '/multi_mask.png', multi_mask_overlay)\n",
    "        cv2.imwrite(DATA_DIR + ids[i] + '/mask.png', mask_overlay)\n",
    "        cv2.imwrite(DATA_DIR + ids[i] + '/countour.png', countour_overlay)\n",
    "        cv2.imwrite(DATA_DIR + ids[i] + '/countour_on_image.png', countour_on_image)            "
   ]
  },
  {
   "cell_type": "code",
   "execution_count": 31,
   "metadata": {},
   "outputs": [
    {
     "name": "stdout",
     "output_type": "stream",
     "text": [
      "CPU times: user 40.8 ms, sys: 4.02 ms, total: 44.8 ms\n",
      "Wall time: 43.9 ms\n"
     ]
    }
   ],
   "source": [
    "%%time\n",
    "run_make_annotation()"
   ]
  },
  {
   "cell_type": "code",
   "execution_count": 32,
   "metadata": {},
   "outputs": [
    {
     "data": {
      "text/plain": [
       "<matplotlib.image.AxesImage at 0x7f407f801a90>"
      ]
     },
     "execution_count": 32,
     "metadata": {},
     "output_type": "execute_result"
    },
    {
     "data": {
      "image/png": "[encoded data removed]",
      "text/plain": [
       "<matplotlib.figure.Figure at 0x7f407f84a0f0>"
      ]
     },
     "metadata": {},
     "output_type": "display_data"
    }
   ],
   "source": [
    "plt.imshow(countour_on_image.astype('float'))"
   ]
  },
  {
   "cell_type": "code",
   "execution_count": null,
   "metadata": {
    "collapsed": true
   },
   "outputs": [],
   "source": []
  }
 ],
 "metadata": {
  "kernelspec": {
   "display_name": "Python 3",
   "language": "python",
   "name": "python3"
  },
  "language_info": {
   "codemirror_mode": {
    "name": "ipython",
    "version": 3
   },
   "file_extension": ".py",
   "mimetype": "text/x-python",
   "name": "python",
   "nbconvert_exporter": "python",
   "pygments_lexer": "ipython3",
   "version": "3.6.4"
  }
 },
 "nbformat": 4,
 "nbformat_minor": 2
}
